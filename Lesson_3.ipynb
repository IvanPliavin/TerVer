{
 "cells": [
  {
   "cell_type": "markdown",
   "id": "acknowledged-venice",
   "metadata": {},
   "source": [
    "# ДЗ № 3"
   ]
  },
  {
   "cell_type": "markdown",
   "id": "tough-savage",
   "metadata": {},
   "source": [
    "### 1"
   ]
  },
  {
   "cell_type": "code",
   "execution_count": 1,
   "id": "animal-scratch",
   "metadata": {},
   "outputs": [],
   "source": [
    "import numpy as np"
   ]
  },
  {
   "cell_type": "code",
   "execution_count": 2,
   "id": "medical-malpractice",
   "metadata": {},
   "outputs": [],
   "source": [
    "# Даны значения\n",
    "\n",
    "data = [100, 80, 75, 77, 89, 33, 45, 25, 65, 17, 30, 24, 57, 55, 70, 75, 65, 84, 90, 150]"
   ]
  },
  {
   "cell_type": "code",
   "execution_count": 3,
   "id": "polyphonic-hollywood",
   "metadata": {},
   "outputs": [
    {
     "name": "stdout",
     "output_type": "stream",
     "text": [
      "среднее арифметическое = 65.3\n"
     ]
    }
   ],
   "source": [
    "# Найдем среднее арифметическое\n",
    "\n",
    "mean = sum(data)/len(data)\n",
    "print('среднее арифметическое =',mean)"
   ]
  },
  {
   "cell_type": "code",
   "execution_count": 4,
   "id": "matched-worse",
   "metadata": {},
   "outputs": [
    {
     "data": {
      "text/plain": [
       "65.3"
      ]
     },
     "execution_count": 4,
     "metadata": {},
     "output_type": "execute_result"
    }
   ],
   "source": [
    "# проверим ответ\n",
    "np.mean(data)"
   ]
  },
  {
   "cell_type": "code",
   "execution_count": 5,
   "id": "racial-bargain",
   "metadata": {},
   "outputs": [
    {
     "name": "stdout",
     "output_type": "stream",
     "text": [
      "среднее квадратичное отклонение = 30.823854398825596\n"
     ]
    }
   ],
   "source": [
    "# Найдем среднее квадратичное отклонение\n",
    "# std = sqrt((el_1 - mean)**2 + (el_2 - mean)**2 + ... + (el_n - mean)**2)/len(data)\n",
    "\n",
    "std_list = []\n",
    "for el in data:\n",
    "    std_list.append((el - mean)**2)\n",
    "std = (sum(std_list)/len(data))**(1/2)\n",
    "\n",
    "print('среднее квадратичное отклонение =', std)"
   ]
  },
  {
   "cell_type": "code",
   "execution_count": 6,
   "id": "fitted-programmer",
   "metadata": {},
   "outputs": [
    {
     "data": {
      "text/plain": [
       "30.823854398825596"
      ]
     },
     "execution_count": 6,
     "metadata": {},
     "output_type": "execute_result"
    }
   ],
   "source": [
    "# проверим ответ\n",
    "np.std(data)"
   ]
  },
  {
   "cell_type": "code",
   "execution_count": 7,
   "id": "lesser-disabled",
   "metadata": {},
   "outputs": [
    {
     "name": "stdout",
     "output_type": "stream",
     "text": [
      "смещенная оценка дисперсии для данной выборки = 950.11\n"
     ]
    }
   ],
   "source": [
    "# смещенную и несмещенную оценки дисперсий для данной выборки\n",
    "\n",
    "sm_disp = std**2\n",
    "print('смещенная оценка дисперсии для данной выборки =',sm_disp)"
   ]
  },
  {
   "cell_type": "code",
   "execution_count": 8,
   "id": "solar-asbestos",
   "metadata": {},
   "outputs": [
    {
     "data": {
      "text/plain": [
       "950.11"
      ]
     },
     "execution_count": 8,
     "metadata": {},
     "output_type": "execute_result"
    }
   ],
   "source": [
    "# проверим ответ\n",
    "np.var(data)"
   ]
  },
  {
   "cell_type": "code",
   "execution_count": 9,
   "id": "armed-guatemala",
   "metadata": {},
   "outputs": [
    {
     "name": "stdout",
     "output_type": "stream",
     "text": [
      "несмещенная оценка дисперсии для данной выборки = 1000.1157894736842\n"
     ]
    }
   ],
   "source": [
    "disp_list = []\n",
    "for el in data:\n",
    "    disp_list.append((el - mean)**2)\n",
    "ne_sm_disp = (sum(std_list)/(len(data) - 1))\n",
    "\n",
    "print('несмещенная оценка дисперсии для данной выборки =', ne_sm_disp)"
   ]
  },
  {
   "cell_type": "markdown",
   "id": "whole-detection",
   "metadata": {},
   "source": [
    "### 2. В первом ящике находится 8 мячей, из которых 5 - белые. Во втором ящике - 12 мячей, из которых 5 белых. Из первого ящика вытаскивают случайным образом два мяча, из второго - 4. Какова вероятность того, что 3 мяча белые?"
   ]
  },
  {
   "cell_type": "code",
   "execution_count": 10,
   "id": "collect-influence",
   "metadata": {},
   "outputs": [],
   "source": [
    "import scipy.special as sp"
   ]
  },
  {
   "cell_type": "code",
   "execution_count": 11,
   "id": "given-cameroon",
   "metadata": {},
   "outputs": [
    {
     "data": {
      "text/plain": [
       "0.12626262626262627"
      ]
     },
     "execution_count": 11,
     "metadata": {},
     "output_type": "execute_result"
    }
   ],
   "source": [
    "# ББ и БЧЧЧ\n",
    "p1 = sp.binom(5,2) / sp.binom(8,2) * (sp.binom(5,1) * sp.binom(7,3) / sp.binom(12,4))\n",
    "p1"
   ]
  },
  {
   "cell_type": "code",
   "execution_count": 12,
   "id": "starting-apartment",
   "metadata": {},
   "outputs": [
    {
     "data": {
      "text/plain": [
       "0.22727272727272727"
      ]
     },
     "execution_count": 12,
     "metadata": {},
     "output_type": "execute_result"
    }
   ],
   "source": [
    "# БЧ и ББЧЧ\n",
    "p2 = sp.binom(5,1) * sp.binom(3,1) / sp.binom(8,2) * (sp.binom(5,2) * sp.binom(7,2) / sp.binom(12,4))\n",
    "p2"
   ]
  },
  {
   "cell_type": "code",
   "execution_count": 13,
   "id": "committed-benjamin",
   "metadata": {},
   "outputs": [
    {
     "data": {
      "text/plain": [
       "0.01515151515151515"
      ]
     },
     "execution_count": 13,
     "metadata": {},
     "output_type": "execute_result"
    }
   ],
   "source": [
    "# ЧЧ и БББЧ\n",
    "p3 = sp.binom(3,2) / sp.binom(8,2) * (sp.binom(5,3) * sp.binom(7,1) / sp.binom(12,4))\n",
    "p3"
   ]
  },
  {
   "cell_type": "code",
   "execution_count": 14,
   "id": "collaborative-policy",
   "metadata": {},
   "outputs": [
    {
     "name": "stdout",
     "output_type": "stream",
     "text": [
      "Ответ: 0.3686868686868687\n"
     ]
    }
   ],
   "source": [
    "p = p1 + p2+ p3\n",
    "print('Ответ:',p)"
   ]
  },
  {
   "cell_type": "markdown",
   "id": "direct-angel",
   "metadata": {},
   "source": [
    "### 3. На соревновании по биатлону один из трех спортсменов стреляет и попадает в мишень. Вероятность попадания для первого спортсмена равна 0.9, для второго — 0.8, для третьего — 0.6. Найти вероятность того, что выстрел произведен: a). первым спортсменом b). вторым спортсменом c). третьим спортсменом."
   ]
  },
  {
   "cell_type": "code",
   "execution_count": 15,
   "id": "considerable-wages",
   "metadata": {},
   "outputs": [
    {
     "name": "stdout",
     "output_type": "stream",
     "text": [
      "попал первый: 0.072 попал второй: 0.032 попал третий: 0.012\n"
     ]
    }
   ],
   "source": [
    "p1 = 0.9 * 0.2 * 0.4 # первый попал, второй нет, третий нет\n",
    "p2 = 0.1 * 0.8 * 0.4 # первый нет, второй попал, третий нет\n",
    "p3 = 0.1 * 0.2 * 0.6 # первый нет, второй нет, третий попал\n",
    "\n",
    "print('попал первый:', round(p1,3),\n",
    "      'попал второй:', round(p2,3), \n",
    "      'попал третий:', round(p3,3))"
   ]
  },
  {
   "cell_type": "markdown",
   "id": "incoming-outreach",
   "metadata": {},
   "source": [
    "### В университет на факультеты A и B поступило равное количество студентов, а на факультет C студентов поступило столько же, сколько на A и B вместе. Вероятность того, что студент факультета A сдаст первую сессию, равна 0.8. Для студента факультета B эта вероятность равна 0.7, а для студента факультета C - 0.9. Студент сдал первую сессию. Какова вероятность, что он учится: a). на факультете A б). на факультете B в). на факультете C?"
   ]
  },
  {
   "cell_type": "code",
   "execution_count": null,
   "id": "compound-currency",
   "metadata": {},
   "outputs": [],
   "source": [
    "# не решил"
   ]
  },
  {
   "cell_type": "markdown",
   "id": "welsh-killing",
   "metadata": {},
   "source": [
    "### Устройство состоит из трех деталей. Для первой детали вероятность выйти из строя в первый месяц равна 0.1, для второй - 0.2, для третьей - 0.25. Какова вероятность того, что в первый месяц выйдут из строя: а). все детали б). только две детали в). хотя бы одна деталь г). от одной до двух деталей?"
   ]
  },
  {
   "cell_type": "code",
   "execution_count": 17,
   "id": "medium-evans",
   "metadata": {},
   "outputs": [
    {
     "data": {
      "text/plain": [
       "0.005000000000000001"
      ]
     },
     "execution_count": 17,
     "metadata": {},
     "output_type": "execute_result"
    }
   ],
   "source": [
    "# вероятность что все выдут из строя\n",
    "p1 = 0.1 * 0.2 * 0.25\n",
    "p1"
   ]
  },
  {
   "cell_type": "code",
   "execution_count": 21,
   "id": "missing-andrews",
   "metadata": {},
   "outputs": [
    {
     "data": {
      "text/plain": [
       "0.08000000000000002"
      ]
     },
     "execution_count": 21,
     "metadata": {},
     "output_type": "execute_result"
    }
   ],
   "source": [
    "# вероятность что только две выйдут из строя, то есть 1я и 2я или 2я и 3я или 1я и 3я\n",
    "p2 = (0.1 * 0.2 * 0.75) + (0.9 * 0.2 * 0.25) + (0.1 * 0.8 * 0.25)\n",
    "p2"
   ]
  },
  {
   "cell_type": "code",
   "execution_count": 20,
   "id": "veterinary-mobility",
   "metadata": {},
   "outputs": [
    {
     "data": {
      "text/plain": [
       "0.45999999999999996"
      ]
     },
     "execution_count": 20,
     "metadata": {},
     "output_type": "execute_result"
    }
   ],
   "source": [
    "# хотябы одна деать выйдет из строя это 1 - ни одна не выйдет из строя\n",
    "p3 = 1 - (0.9 * 0.8 * 0.75)\n",
    "p3"
   ]
  },
  {
   "cell_type": "code",
   "execution_count": 23,
   "id": "massive-solid",
   "metadata": {},
   "outputs": [
    {
     "data": {
      "text/plain": [
       "0.455"
      ]
     },
     "execution_count": 23,
     "metadata": {},
     "output_type": "execute_result"
    }
   ],
   "source": [
    "# от одной до двух выйдет из строя\n",
    "p4 = p2 + ((0.1 * 0.8 * 0.75) + (0.9 * 0.2 * 0.75) + (0.9 * 0.8 * 0.25))\n",
    "p4"
   ]
  },
  {
   "cell_type": "code",
   "execution_count": null,
   "id": "crazy-conditions",
   "metadata": {},
   "outputs": [],
   "source": []
  }
 ],
 "metadata": {
  "kernelspec": {
   "display_name": "Python 3",
   "language": "python",
   "name": "python3"
  },
  "language_info": {
   "codemirror_mode": {
    "name": "ipython",
    "version": 3
   },
   "file_extension": ".py",
   "mimetype": "text/x-python",
   "name": "python",
   "nbconvert_exporter": "python",
   "pygments_lexer": "ipython3",
   "version": "3.8.5"
  }
 },
 "nbformat": 4,
 "nbformat_minor": 5
}
